{
 "cells": [
  {
   "cell_type": "markdown",
   "metadata": {},
   "source": [
    "## Load Librarieis"
   ]
  },
  {
   "cell_type": "code",
   "execution_count": 76,
   "metadata": {},
   "outputs": [
    {
     "name": "stdout",
     "output_type": "stream",
     "text": [
      "Populating the interactive namespace from numpy and matplotlib\n"
     ]
    }
   ],
   "source": [
    "import numpy as np\n",
    "import pandas as pd\n",
    "import matplotlib.pyplot as plt\n",
    "import seaborn as sns\n",
    "from scipy.stats import norm\n",
    "from sklearn.preprocessing import StandardScaler\n",
    "from scipy import stats\n",
    "import warnings\n",
    "warnings.filterwarnings('ignore')\n",
    "%matplotlib inline\n",
    "\n",
    "sns.set_style('darkgrid')\n",
    "# sns.set(style=\"white\")\n",
    "\n",
    "# import openpyxl\n",
    "from sklearn.model_selection import train_test_split\n",
    "from sklearn import linear_model\n",
    "# Plot inline in notebook\n",
    "%pylab inline"
   ]
  },
  {
   "cell_type": "markdown",
   "metadata": {},
   "source": [
    "## Load Data from CSV file"
   ]
  },
  {
   "cell_type": "code",
   "execution_count": 79,
   "metadata": {},
   "outputs": [],
   "source": [
    "# Load data from csv file\n",
    "df = pd.read_csv('exploration.csv')\n",
    "\n",
    "#  y =complexity score\n",
    "y = df['Complexity_Score']\n",
    "\n",
    "#  y_GA and y_AL in two serise\n",
    "y_GA = y[:320].apply(int)\n",
    "y_AL = y[320:].apply(int)\n",
    "\n",
    "#  y_GA and y_AL in two df\n",
    "y_GA_df = pd.DataFrame(data=y[:320], dtype=np.int8)\n",
    "y_AL_df = pd.DataFrame(data=y[320:], dtype=np.int8)\n",
    "\n",
    "Code = df['Code']\n",
    " \n",
    "y_df =df[['Code', 'Group', 'Complexity_Score']].copy()"
   ]
  },
  {
   "cell_type": "code",
   "execution_count": 81,
   "metadata": {},
   "outputs": [
    {
     "data": {
      "text/html": [
       "<div>\n",
       "<style scoped>\n",
       "    .dataframe tbody tr th:only-of-type {\n",
       "        vertical-align: middle;\n",
       "    }\n",
       "\n",
       "    .dataframe tbody tr th {\n",
       "        vertical-align: top;\n",
       "    }\n",
       "\n",
       "    .dataframe thead th {\n",
       "        text-align: right;\n",
       "    }\n",
       "</style>\n",
       "<table border=\"1\" class=\"dataframe\">\n",
       "  <thead>\n",
       "    <tr style=\"text-align: right;\">\n",
       "      <th></th>\n",
       "      <th>Code</th>\n",
       "      <th>Group</th>\n",
       "      <th>Complexity_Score</th>\n",
       "    </tr>\n",
       "  </thead>\n",
       "  <tbody>\n",
       "    <tr>\n",
       "      <th>0</th>\n",
       "      <td>GA.1</td>\n",
       "      <td>GA</td>\n",
       "      <td>21</td>\n",
       "    </tr>\n",
       "    <tr>\n",
       "      <th>1</th>\n",
       "      <td>GA.2</td>\n",
       "      <td>GA</td>\n",
       "      <td>18</td>\n",
       "    </tr>\n",
       "    <tr>\n",
       "      <th>2</th>\n",
       "      <td>GA.3</td>\n",
       "      <td>GA</td>\n",
       "      <td>21</td>\n",
       "    </tr>\n",
       "    <tr>\n",
       "      <th>3</th>\n",
       "      <td>GA.4</td>\n",
       "      <td>GA</td>\n",
       "      <td>14</td>\n",
       "    </tr>\n",
       "    <tr>\n",
       "      <th>4</th>\n",
       "      <td>GA.5</td>\n",
       "      <td>GA</td>\n",
       "      <td>18</td>\n",
       "    </tr>\n",
       "  </tbody>\n",
       "</table>\n",
       "</div>"
      ],
      "text/plain": [
       "   Code Group  Complexity_Score\n",
       "0  GA.1    GA                21\n",
       "1  GA.2    GA                18\n",
       "2  GA.3    GA                21\n",
       "3  GA.4    GA                14\n",
       "4  GA.5    GA                18"
      ]
     },
     "execution_count": 81,
     "metadata": {},
     "output_type": "execute_result"
    }
   ],
   "source": [
    "y_df.head()"
   ]
  },
  {
   "cell_type": "code",
   "execution_count": 5,
   "metadata": {},
   "outputs": [
    {
     "data": {
      "text/html": [
       "<div>\n",
       "<style scoped>\n",
       "    .dataframe tbody tr th:only-of-type {\n",
       "        vertical-align: middle;\n",
       "    }\n",
       "\n",
       "    .dataframe tbody tr th {\n",
       "        vertical-align: top;\n",
       "    }\n",
       "\n",
       "    .dataframe thead tr th {\n",
       "        text-align: left;\n",
       "    }\n",
       "\n",
       "    .dataframe thead tr:last-of-type th {\n",
       "        text-align: right;\n",
       "    }\n",
       "</style>\n",
       "<table border=\"1\" class=\"dataframe\">\n",
       "  <thead>\n",
       "    <tr>\n",
       "      <th></th>\n",
       "      <th colspan=\"8\" halign=\"left\">Complexity_Score</th>\n",
       "    </tr>\n",
       "    <tr>\n",
       "      <th></th>\n",
       "      <th>count</th>\n",
       "      <th>mean</th>\n",
       "      <th>std</th>\n",
       "      <th>min</th>\n",
       "      <th>25%</th>\n",
       "      <th>50%</th>\n",
       "      <th>75%</th>\n",
       "      <th>max</th>\n",
       "    </tr>\n",
       "    <tr>\n",
       "      <th>Group</th>\n",
       "      <th></th>\n",
       "      <th></th>\n",
       "      <th></th>\n",
       "      <th></th>\n",
       "      <th></th>\n",
       "      <th></th>\n",
       "      <th></th>\n",
       "      <th></th>\n",
       "    </tr>\n",
       "  </thead>\n",
       "  <tbody>\n",
       "    <tr>\n",
       "      <th>AL</th>\n",
       "      <td>320.0</td>\n",
       "      <td>17.012500</td>\n",
       "      <td>3.684225</td>\n",
       "      <td>7.0</td>\n",
       "      <td>15.0</td>\n",
       "      <td>18.0</td>\n",
       "      <td>20.00</td>\n",
       "      <td>23.0</td>\n",
       "    </tr>\n",
       "    <tr>\n",
       "      <th>GA</th>\n",
       "      <td>320.0</td>\n",
       "      <td>16.759375</td>\n",
       "      <td>3.380041</td>\n",
       "      <td>8.0</td>\n",
       "      <td>14.0</td>\n",
       "      <td>17.0</td>\n",
       "      <td>19.25</td>\n",
       "      <td>24.0</td>\n",
       "    </tr>\n",
       "  </tbody>\n",
       "</table>\n",
       "</div>"
      ],
      "text/plain": [
       "      Complexity_Score                                                   \n",
       "                 count       mean       std  min   25%   50%    75%   max\n",
       "Group                                                                    \n",
       "AL               320.0  17.012500  3.684225  7.0  15.0  18.0  20.00  23.0\n",
       "GA               320.0  16.759375  3.380041  8.0  14.0  17.0  19.25  24.0"
      ]
     },
     "execution_count": 5,
     "metadata": {},
     "output_type": "execute_result"
    }
   ],
   "source": [
    "# creating a df for Complexity_Score and splitted it by video Type \n",
    "# Compelexity_score = y\n",
    "\n",
    "grouped = y_df.groupby('Group')\n",
    "grouped.describe()"
   ]
  },
  {
   "cell_type": "markdown",
   "metadata": {},
   "source": [
    "### Exploratory Analysis on all Videos "
   ]
  },
  {
   "cell_type": "code",
   "execution_count": 15,
   "metadata": {},
   "outputs": [
    {
     "name": "stdout",
     "output_type": "stream",
     "text": [
      "Basic Stats on Video Complexity Scores  \n",
      "\n",
      "count    640.000000\n",
      "mean      16.885938\n",
      "std        3.534908\n",
      "min        7.000000\n",
      "25%       15.000000\n",
      "50%       17.000000\n",
      "75%       20.000000\n",
      "max       24.000000\n",
      "Name: Complexity_Score, dtype: float64\n"
     ]
    },
    {
     "data": {
      "image/png": "[encoded data removed]",
      "text/plain": [
       "<Figure size 648x576 with 1 Axes>"
      ]
     },
     "metadata": {},
     "output_type": "display_data"
    }
   ],
   "source": [
    "print(\"Basic Stats on Video Complexity Scores  \\n\" )\n",
    "print(y_df['Complexity_Score'].describe())\n",
    "plt.figure(figsize=(9, 8))\n",
    "sns.distplot(y_df['Complexity_Score'], color='g', bins=15, hist_kws={'alpha': 0.4});\n"
   ]
  },
  {
   "cell_type": "markdown",
   "metadata": {},
   "source": [
    "### Skewness and Kurtosis"
   ]
  },
  {
   "cell_type": "code",
   "execution_count": 16,
   "metadata": {},
   "outputs": [
    {
     "name": "stdout",
     "output_type": "stream",
     "text": [
      "skeweness is -0.491660\n",
      "Kurtosis is -0.481434\n"
     ]
    }
   ],
   "source": [
    "# skewness and kurtosis\n",
    "print(\"skeweness is %f\" % y.skew())\n",
    "print(\"Kurtosis is %f\" % y.kurt())"
   ]
  },
  {
   "cell_type": "code",
   "execution_count": 17,
   "metadata": {},
   "outputs": [
    {
     "data": {
      "image/png": "[encoded data removed]",
      "text/plain": [
       "<Figure size 432x288 with 1 Axes>"
      ]
     },
     "metadata": {},
     "output_type": "display_data"
    }
   ],
   "source": [
    "#  Visulaizing AS in both Genres \n",
    "\n",
    "\n",
    "pyplot.hist(y_GA, bins=25, alpha=0.3, label='GA')\n",
    "pyplot.hist(y_AL, bins=25, alpha=0.8, label='AL')\n",
    "pyplot.legend(loc='upper right')\n",
    "pyplot.show()"
   ]
  },
  {
   "cell_type": "markdown",
   "metadata": {},
   "source": [
    "### # y values counts"
   ]
  },
  {
   "cell_type": "code",
   "execution_count": 18,
   "metadata": {},
   "outputs": [
    {
     "name": "stdout",
     "output_type": "stream",
     "text": [
      "18    73\n",
      "20    72\n",
      "21    66\n",
      "19    66\n",
      "15    60\n",
      "16    53\n",
      "17    51\n",
      "14    50\n",
      "12    33\n",
      "22    30\n",
      "10    24\n",
      "13    21\n",
      "11    14\n",
      "9     10\n",
      "23     9\n",
      "8      5\n",
      "7      2\n",
      "24     1\n",
      "Name: Complexity_Score, dtype: int64\n"
     ]
    }
   ],
   "source": [
    "y_ValueCounts = y.value_counts()\n",
    "print (y_ValueCounts)"
   ]
  },
  {
   "cell_type": "markdown",
   "metadata": {},
   "source": [
    "### Split Videos in four bins (y) "
   ]
  },
  {
   "cell_type": "code",
   "execution_count": 19,
   "metadata": {},
   "outputs": [
    {
     "data": {
      "text/plain": [
       "<matplotlib.axes._subplots.AxesSubplot at 0x11a7073c8>"
      ]
     },
     "execution_count": 19,
     "metadata": {},
     "output_type": "execute_result"
    },
    {
     "data": {
      "image/png": "[encoded data removed]",
      "text/plain": [
       "<Figure size 432x288 with 1 Axes>"
      ]
     },
     "metadata": {},
     "output_type": "display_data"
    }
   ],
   "source": [
    "# create four bins \n",
    "score_sum = df.loc[df['score_sum'].notnull(), 'score_sum'] = df.loc[df['score_sum'].notnull(), 'score_sum'].apply(int)\n",
    "sns.barplot(x=\"score_bins\", y=\"score_sum\", data=df)"
   ]
  },
  {
   "cell_type": "code",
   "execution_count": 20,
   "metadata": {},
   "outputs": [],
   "source": [
    "#  caculating quartile\n",
    "sorted(y)\n",
    "q3, median, q1 = np.percentile(y, [75,50,25])\n",
    "mean = int(y.mean())\n",
    "\n",
    "\n",
    "# y_q75 = [x for x in Score.groupby(Score['Complexity_Score'] <= q75)]\n",
    "# median = [x for _, x in Score.groupby(Score['Complexity_Score'] <= median)]\n",
    "# q25 = [x for _, x in Score.groupby(Score['Complexity_Score'] <= q25)]\n",
    "# above_mean = [x for _, x in Score.groupby(Score['Complexity_Score'] >= mean)]\n",
    "# below_mean = [x for _, x in Score.groupby(Score['Complexity_Score'] <= mean)]"
   ]
  },
  {
   "cell_type": "markdown",
   "metadata": {},
   "source": [
    "### Detecting Outliers"
   ]
  },
  {
   "cell_type": "code",
   "execution_count": 33,
   "metadata": {},
   "outputs": [
    {
     "data": {
      "text/plain": [
       "(638, 3)"
      ]
     },
     "execution_count": 33,
     "metadata": {},
     "output_type": "execute_result"
    },
    {
     "data": {
      "image/png": "[encoded data removed]",
      "text/plain": [
       "<Figure size 432x288 with 1 Axes>"
      ]
     },
     "metadata": {},
     "output_type": "display_data"
    }
   ],
   "source": [
    "\n",
    "#  ploting y w outliers\n",
    "ax = sns.boxplot(x=\"Group\", y=\"Complexity_Score\", data=df)\n",
    "\n",
    "# Caculating interquartile range (IQR)\n",
    "IQR = q3 - q1\n",
    "IQR_y = (y < (q1 - 1.5 * IQR)) | (y > (q3 + 1.5 * IQR))\n",
    "y_no_outlier = y_df[~((y < (q1 - 1.5 * IQR)) |(y > (q3 + 1.5 * IQR)))]\n",
    "\n",
    "#  two points are outliers \n",
    "y_no_outlier.shape\n"
   ]
  },
  {
   "cell_type": "markdown",
   "metadata": {},
   "source": [
    "Wikipedia Definition: \n",
    "The interquartile range (IQR), also called the midspread or middle 50%, or technically H-spread, is a measure of statistical dispersion, being equal to the difference between 75th and 25th percentiles, or between upper and lower quartiles, IQR = Q3 − Q1."
   ]
  },
  {
   "cell_type": "markdown",
   "metadata": {},
   "source": [
    "### Deleting outliers "
   ]
  },
  {
   "cell_type": "code",
   "execution_count": 34,
   "metadata": {},
   "outputs": [
    {
     "data": {
      "image/png": "[encoded data removed]",
      "text/plain": [
       "<Figure size 432x288 with 1 Axes>"
      ]
     },
     "metadata": {},
     "output_type": "display_data"
    }
   ],
   "source": [
    "ax = sns.boxplot(x=\"Group\", y=\"Complexity_Score\", data=y_no_outlier)"
   ]
  },
  {
   "cell_type": "markdown",
   "metadata": {},
   "source": [
    "### Academic Lecture Video Analysis"
   ]
  },
  {
   "cell_type": "code",
   "execution_count": 40,
   "metadata": {},
   "outputs": [
    {
     "name": "stdout",
     "output_type": "stream",
     "text": [
      "count    320.000000\n",
      "mean      17.012500\n",
      "std        3.684225\n",
      "min        7.000000\n",
      "25%       15.000000\n",
      "50%       18.000000\n",
      "75%       20.000000\n",
      "max       23.000000\n",
      "Name: Complexity_Score, dtype: float64\n",
      "\n",
      "\n",
      "Skewness: -0.550841\n",
      "Kurtosis: -0.487282\n"
     ]
    },
    {
     "data": {
      "image/png": "[encoded data removed]",
      "text/plain": [
       "<Figure size 432x288 with 1 Axes>"
      ]
     },
     "metadata": {},
     "output_type": "display_data"
    }
   ],
   "source": [
    "print (y_AL.describe())\n",
    "#  plotting y distribution\n",
    "x = pd.Series(y_AL, name= \"Academic Lectures Complexity Score\")\n",
    "sns.distplot(x)\n",
    "print (\"\\n\")\n",
    "#skewness and kurtosis\n",
    "print(\"Skewness: %f\" % y_AL.skew())\n",
    "print(\"Kurtosis: %f\" % y_AL.kurt())"
   ]
  },
  {
   "cell_type": "markdown",
   "metadata": {},
   "source": [
    "### Top 10  most difficult videos"
   ]
  },
  {
   "cell_type": "code",
   "execution_count": 82,
   "metadata": {},
   "outputs": [
    {
     "data": {
      "text/html": [
       "<div>\n",
       "<style scoped>\n",
       "    .dataframe tbody tr th:only-of-type {\n",
       "        vertical-align: middle;\n",
       "    }\n",
       "\n",
       "    .dataframe tbody tr th {\n",
       "        vertical-align: top;\n",
       "    }\n",
       "\n",
       "    .dataframe thead th {\n",
       "        text-align: right;\n",
       "    }\n",
       "</style>\n",
       "<table border=\"1\" class=\"dataframe\">\n",
       "  <thead>\n",
       "    <tr style=\"text-align: right;\">\n",
       "      <th></th>\n",
       "      <th>Code</th>\n",
       "      <th>Group</th>\n",
       "      <th>Complexity_Score</th>\n",
       "    </tr>\n",
       "  </thead>\n",
       "  <tbody>\n",
       "    <tr>\n",
       "      <th>260</th>\n",
       "      <td>GA.261</td>\n",
       "      <td>GA</td>\n",
       "      <td>24</td>\n",
       "    </tr>\n",
       "    <tr>\n",
       "      <th>16</th>\n",
       "      <td>GA.17</td>\n",
       "      <td>GA</td>\n",
       "      <td>23</td>\n",
       "    </tr>\n",
       "    <tr>\n",
       "      <th>90</th>\n",
       "      <td>GA.91</td>\n",
       "      <td>GA</td>\n",
       "      <td>23</td>\n",
       "    </tr>\n",
       "    <tr>\n",
       "      <th>161</th>\n",
       "      <td>GA.162</td>\n",
       "      <td>GA</td>\n",
       "      <td>23</td>\n",
       "    </tr>\n",
       "    <tr>\n",
       "      <th>365</th>\n",
       "      <td>AL.46</td>\n",
       "      <td>AL</td>\n",
       "      <td>23</td>\n",
       "    </tr>\n",
       "    <tr>\n",
       "      <th>442</th>\n",
       "      <td>AL.123</td>\n",
       "      <td>AL</td>\n",
       "      <td>23</td>\n",
       "    </tr>\n",
       "    <tr>\n",
       "      <th>452</th>\n",
       "      <td>AL.133</td>\n",
       "      <td>AL</td>\n",
       "      <td>23</td>\n",
       "    </tr>\n",
       "    <tr>\n",
       "      <th>471</th>\n",
       "      <td>AL.152</td>\n",
       "      <td>AL</td>\n",
       "      <td>23</td>\n",
       "    </tr>\n",
       "    <tr>\n",
       "      <th>497</th>\n",
       "      <td>AL.178</td>\n",
       "      <td>AL</td>\n",
       "      <td>23</td>\n",
       "    </tr>\n",
       "    <tr>\n",
       "      <th>498</th>\n",
       "      <td>AL.179</td>\n",
       "      <td>AL</td>\n",
       "      <td>23</td>\n",
       "    </tr>\n",
       "  </tbody>\n",
       "</table>\n",
       "</div>"
      ],
      "text/plain": [
       "       Code Group  Complexity_Score\n",
       "260  GA.261    GA                24\n",
       "16    GA.17    GA                23\n",
       "90    GA.91    GA                23\n",
       "161  GA.162    GA                23\n",
       "365   AL.46    AL                23\n",
       "442  AL.123    AL                23\n",
       "452  AL.133    AL                23\n",
       "471  AL.152    AL                23\n",
       "497  AL.178    AL                23\n",
       "498  AL.179    AL                23"
      ]
     },
     "execution_count": 82,
     "metadata": {},
     "output_type": "execute_result"
    }
   ],
   "source": [
    "y_no_outlier.nlargest(10, 'Complexity_Score')"
   ]
  },
  {
   "cell_type": "markdown",
   "metadata": {},
   "source": [
    "### Example of GA Difficult Video"
   ]
  },
  {
   "cell_type": "code",
   "execution_count": 86,
   "metadata": {},
   "outputs": [
    {
     "data": {
      "text/html": [
       "<iframe width=\"560\" height=\"415\" src=\"https://www.youtube.com/embed/I6BF0IJHmLs\"></iframe>"
      ],
      "text/plain": [
       "<IPython.core.display.HTML object>"
      ]
     },
     "metadata": {},
     "output_type": "display_data"
    }
   ],
   "source": [
    "%%HTML\n",
    "<iframe width=\"560\" height=\"415\" src=\"https://www.youtube.com/embed/I6BF0IJHmLs\"></iframe>"
   ]
  },
  {
   "cell_type": "markdown",
   "metadata": {},
   "source": [
    "### Example of Difficult AL video"
   ]
  },
  {
   "cell_type": "code",
   "execution_count": 87,
   "metadata": {},
   "outputs": [
    {
     "data": {
      "text/html": [
       "<iframe width=\"560\" height=\"415\" src=\"https://www.youtube.com/embed/WJxHJKCq9ew\"></iframe>"
      ],
      "text/plain": [
       "<IPython.core.display.HTML object>"
      ]
     },
     "metadata": {},
     "output_type": "display_data"
    }
   ],
   "source": [
    "%%HTML\n",
    "<iframe width=\"560\" height=\"415\" src=\"https://www.youtube.com/embed/WJxHJKCq9ew\"></iframe>"
   ]
  },
  {
   "cell_type": "markdown",
   "metadata": {},
   "source": [
    "## Top 10  most easiest videos"
   ]
  },
  {
   "cell_type": "code",
   "execution_count": 88,
   "metadata": {},
   "outputs": [
    {
     "data": {
      "text/html": [
       "<div>\n",
       "<style scoped>\n",
       "    .dataframe tbody tr th:only-of-type {\n",
       "        vertical-align: middle;\n",
       "    }\n",
       "\n",
       "    .dataframe tbody tr th {\n",
       "        vertical-align: top;\n",
       "    }\n",
       "\n",
       "    .dataframe thead th {\n",
       "        text-align: right;\n",
       "    }\n",
       "</style>\n",
       "<table border=\"1\" class=\"dataframe\">\n",
       "  <thead>\n",
       "    <tr style=\"text-align: right;\">\n",
       "      <th></th>\n",
       "      <th>Code</th>\n",
       "      <th>Group</th>\n",
       "      <th>Complexity_Score</th>\n",
       "    </tr>\n",
       "  </thead>\n",
       "  <tbody>\n",
       "    <tr>\n",
       "      <th>123</th>\n",
       "      <td>GA.124</td>\n",
       "      <td>GA</td>\n",
       "      <td>8</td>\n",
       "    </tr>\n",
       "    <tr>\n",
       "      <th>124</th>\n",
       "      <td>GA.125</td>\n",
       "      <td>GA</td>\n",
       "      <td>8</td>\n",
       "    </tr>\n",
       "    <tr>\n",
       "      <th>192</th>\n",
       "      <td>GA.193</td>\n",
       "      <td>GA</td>\n",
       "      <td>8</td>\n",
       "    </tr>\n",
       "    <tr>\n",
       "      <th>459</th>\n",
       "      <td>AL.140</td>\n",
       "      <td>AL</td>\n",
       "      <td>8</td>\n",
       "    </tr>\n",
       "    <tr>\n",
       "      <th>609</th>\n",
       "      <td>AL.290</td>\n",
       "      <td>AL</td>\n",
       "      <td>8</td>\n",
       "    </tr>\n",
       "    <tr>\n",
       "      <th>99</th>\n",
       "      <td>GA.100</td>\n",
       "      <td>GA</td>\n",
       "      <td>9</td>\n",
       "    </tr>\n",
       "    <tr>\n",
       "      <th>122</th>\n",
       "      <td>GA.123</td>\n",
       "      <td>GA</td>\n",
       "      <td>9</td>\n",
       "    </tr>\n",
       "    <tr>\n",
       "      <th>125</th>\n",
       "      <td>GA.126</td>\n",
       "      <td>GA</td>\n",
       "      <td>9</td>\n",
       "    </tr>\n",
       "    <tr>\n",
       "      <th>139</th>\n",
       "      <td>GA.140</td>\n",
       "      <td>GA</td>\n",
       "      <td>9</td>\n",
       "    </tr>\n",
       "    <tr>\n",
       "      <th>174</th>\n",
       "      <td>GA.175</td>\n",
       "      <td>GA</td>\n",
       "      <td>9</td>\n",
       "    </tr>\n",
       "  </tbody>\n",
       "</table>\n",
       "</div>"
      ],
      "text/plain": [
       "       Code Group  Complexity_Score\n",
       "123  GA.124    GA                 8\n",
       "124  GA.125    GA                 8\n",
       "192  GA.193    GA                 8\n",
       "459  AL.140    AL                 8\n",
       "609  AL.290    AL                 8\n",
       "99   GA.100    GA                 9\n",
       "122  GA.123    GA                 9\n",
       "125  GA.126    GA                 9\n",
       "139  GA.140    GA                 9\n",
       "174  GA.175    GA                 9"
      ]
     },
     "execution_count": 88,
     "metadata": {},
     "output_type": "execute_result"
    }
   ],
   "source": [
    " y_no_outlier.nsmallest(10, 'Complexity_Score')"
   ]
  },
  {
   "cell_type": "markdown",
   "metadata": {},
   "source": [
    "### Example of Easy GA Video"
   ]
  },
  {
   "cell_type": "code",
   "execution_count": 91,
   "metadata": {},
   "outputs": [
    {
     "data": {
      "text/html": [
       "<iframe width=\"560\" height=\"415\" src=\"https://www.youtube.com/embed/-dLWrMjib5w\"></iframe>"
      ],
      "text/plain": [
       "<IPython.core.display.HTML object>"
      ]
     },
     "metadata": {},
     "output_type": "display_data"
    }
   ],
   "source": [
    "%%HTML\n",
    "<iframe width=\"560\" height=\"415\" src=\"https://www.youtube.com/embed/-dLWrMjib5w\"></iframe>"
   ]
  },
  {
   "cell_type": "markdown",
   "metadata": {},
   "source": [
    "### Example of Easy AL Video"
   ]
  },
  {
   "cell_type": "code",
   "execution_count": 94,
   "metadata": {},
   "outputs": [
    {
     "data": {
      "text/html": [
       "<iframe width=\"560\" height=\"415\" src=\"https://www.youtube.com/embed/K3GV13uokbk\"></iframe>"
      ],
      "text/plain": [
       "<IPython.core.display.HTML object>"
      ]
     },
     "metadata": {},
     "output_type": "display_data"
    }
   ],
   "source": [
    "\n",
    "%%HTML\n",
    "<iframe width=\"560\" height=\"415\" src=\"https://www.youtube.com/embed/K3GV13uokbk\"></iframe>"
   ]
  },
  {
   "cell_type": "code",
   "execution_count": null,
   "metadata": {},
   "outputs": [],
   "source": [
    "#applying log transformation\n",
    "# logged_y_AL = np.log(y_AL)\n",
    "# logged_y_AL.describe()"
   ]
  },
  {
   "cell_type": "code",
   "execution_count": null,
   "metadata": {},
   "outputs": [],
   "source": [
    "# Plot miles per gallon against horsepower with other semantics\n",
    "# sns.set(style=\"white\")\n",
    "# sns.relplot(x= y_GA, y= Code, sizes=(40, 400), alpha=.5, palette=\"muted\", height=6,\n",
    "#      data=df)"
   ]
  },
  {
   "cell_type": "code",
   "execution_count": null,
   "metadata": {},
   "outputs": [],
   "source": [
    "# sns.barplot(x=\"Unique_Score\", y=\"Score_Count\", data=df,\n",
    "#             label=\"Total\", color=\"b\")"
   ]
  },
  {
   "cell_type": "code",
   "execution_count": null,
   "metadata": {},
   "outputs": [],
   "source": [
    "# sns.pairplot(df, kind=\"scatter\")\n",
    "# sns.pairplot(df, kind=\"reg\")\n",
    "# plt.show()"
   ]
  },
  {
   "cell_type": "code",
   "execution_count": null,
   "metadata": {},
   "outputs": [],
   "source": [
    "# sns.set(style=\"white\", color_codes=True)\n",
    "# sns.jointplot(x=df[\"AL_Score\"], y=df[\"GA_Score\"], kind='kde', color=\"skyblue\")\n"
   ]
  },
  {
   "cell_type": "code",
   "execution_count": null,
   "metadata": {},
   "outputs": [],
   "source": [
    "# sns.jointplot(x=df[\"AL_Score\"], y=df[\"GA_Score\"], kind='scatter', s=100, color='m', edgecolor=\"skyblue\", linewidth=2)"
   ]
  },
  {
   "cell_type": "code",
   "execution_count": null,
   "metadata": {},
   "outputs": [],
   "source": [
    "# p1=sns.kdeplot(df['Average_score'], shade=True, color=\"r\")\n",
    "#  p1=sns.kdeplot(df['GA_Score'], shade=True, color=\"b\")\n",
    "\n"
   ]
  },
  {
   "cell_type": "code",
   "execution_count": null,
   "metadata": {},
   "outputs": [],
   "source": [
    "# sns.kdeplot(df['Average_score'], shade=True, bw=.5, color=\"olive\")\n"
   ]
  },
  {
   "cell_type": "code",
   "execution_count": 67,
   "metadata": {},
   "outputs": [],
   "source": [
    "# ax = sns.boxplot(x='y_AL', y='y_GA', data=df)\n",
    "# ax = sns.swarmplot(x='y_AL', y='y_GA', data=df, color=\"grey\")\n"
   ]
  },
  {
   "cell_type": "code",
   "execution_count": null,
   "metadata": {},
   "outputs": [],
   "source": [
    "df[\"AL_Score\"].dropna()\n",
    "df[\"GA_Score\"].dropna()\n",
    "sns.distplot( df[\"AL_Score\"] , color=\"skyblue\", label=\"Sepal Length\")\n",
    "sns.distplot( df[\"GA_Score\"] , color=\"red\", label=\"Sepal Width\")\n",
    "sns.plt.legend()"
   ]
  },
  {
   "cell_type": "code",
   "execution_count": 97,
   "metadata": {},
   "outputs": [
    {
     "data": {
      "image/png": "[encoded data removed]",
      "text/plain": [
       "<Figure size 432x288 with 1 Axes>"
      ]
     },
     "metadata": {},
     "output_type": "display_data"
    }
   ],
   "source": [
    "p1=sns.kdeplot(y_GA, shade=True, color=\"r\")\n",
    "p1=sns.kdeplot(y_AL, shade=True, color=\"b\")\n",
    "#sns.plt.show()\n"
   ]
  },
  {
   "cell_type": "code",
   "execution_count": null,
   "metadata": {},
   "outputs": [],
   "source": [
    "sns.violinplot(\"Code\", \"Average_score\", data=df,\n",
    "               palette=[\"lightblue\", \"lightpink\"]);"
   ]
  },
  {
   "cell_type": "code",
   "execution_count": null,
   "metadata": {},
   "outputs": [],
   "source": [
    "with sns.axes_style('white'):\n",
    "    g = sns.factorplot(\"Average_score\", data=df, aspect=2,\n",
    "                       kind=\"count\", color='steelblue')\n",
    "    g.set_xticklabels(step=1)"
   ]
  },
  {
   "cell_type": "code",
   "execution_count": null,
   "metadata": {},
   "outputs": [],
   "source": [
    "with sns.axes_style(style='ticks'):\n",
    "    g = sns.factorplot('Code', 'Average_score', data=df, kind=\"box\")\n",
    "    g.set_axis_labels(\"Video Genre\", \"Score\");"
   ]
  },
  {
   "cell_type": "code",
   "execution_count": null,
   "metadata": {},
   "outputs": [],
   "source": [
    "with sns.axes_style('white'):\n",
    "    sns.jointplot(\"GA_Score\", 'AL_Score', data=df, kind='hex')"
   ]
  },
  {
   "cell_type": "code",
   "execution_count": null,
   "metadata": {},
   "outputs": [],
   "source": [
    "\n",
    "pyplot.hist('GA_Score', bins=25, alpha=0.5, label='GA')\n",
    "pyplot.hist('AL_Score', bins=25, alpha=0.5, label='AL')\n",
    "pyplot.legend(loc='upper right')\n",
    "pyplot.show()"
   ]
  },
  {
   "cell_type": "code",
   "execution_count": null,
   "metadata": {},
   "outputs": [],
   "source": [
    "sns.set()\n",
    "cols = ['GA_Score','Index']\n",
    "sns.pairplot(df[cols], size = 2.5)\n",
    "plt.show();"
   ]
  },
  {
   "cell_type": "code",
   "execution_count": null,
   "metadata": {},
   "outputs": [],
   "source": [
    "with sns.axes_style('white'):\n",
    "    sns.relplot(x='Index', y='Average_score', hue='Code', size='Index',\n",
    "                sizes=(80, 400), alpha=.5, palette=\"muted\",\n",
    "                height=6, data=df)"
   ]
  },
  {
   "cell_type": "code",
   "execution_count": null,
   "metadata": {},
   "outputs": [],
   "source": [
    "ax = sns.kdeplot(y_GA, \n",
    "                 Code,  \n",
    "                 cmap=\"YlOrBr\", \n",
    "                 shade=True, shade_lowest=False)\n",
    "\n",
    "ax = sns.kdeplot(y_AL, \n",
    "                 Code, \n",
    "                 cmap=\"Reds\", \n",
    "                 shade=True, shade_lowest=False)"
   ]
  },
  {
   "cell_type": "code",
   "execution_count": null,
   "metadata": {},
   "outputs": [],
   "source": []
  }
 ],
 "metadata": {
  "kernelspec": {
   "display_name": "Python 3",
   "language": "python",
   "name": "python3"
  },
  "language_info": {
   "codemirror_mode": {
    "name": "ipython",
    "version": 3
   },
   "file_extension": ".py",
   "mimetype": "text/x-python",
   "name": "python",
   "nbconvert_exporter": "python",
   "pygments_lexer": "ipython3",
   "version": "3.6.7"
  }
 },
 "nbformat": 4,
 "nbformat_minor": 2
}
